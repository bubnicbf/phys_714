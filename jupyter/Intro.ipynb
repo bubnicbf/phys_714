{
 "cells": [
  {
   "cell_type": "markdown",
   "metadata": {},
   "source": [
    "# Machine Learning and Statistics for Physicists"
   ]
  },
  {
   "cell_type": "markdown",
   "metadata": {},
   "source": [
    "Material for a [UC Irvine](https://uci.edu/) course offered by the [Department of Physics and Astronomy](https://www.physics.uci.edu/).\n",
    "\n",
    "Content is maintained on [github](github.com/dkirkby/MachineLearningStatistics) and distributed under a [BSD3 license](https://opensource.org/licenses/BSD-3-Clause).\n",
    "\n",
    "[Table of Contents](Contents.ipynb)"
   ]
  },
  {
   "cell_type": "markdown",
   "metadata": {},
   "source": [
    "## Introduction"
   ]
  },
  {
   "cell_type": "markdown",
   "metadata": {},
   "source": [
    "**ACTIVITY:** Discuss these questions:\n",
    "1. What is a *data scientist*?\n",
    "2. What is the relationship between *machine learning* and *statistics*?\n",
    "3. What is \"deep\" about *deep learning*?\n",
    "4. Does your research focus more on *data* or *models*?"
   ]
  },
  {
   "cell_type": "markdown",
   "metadata": {},
   "source": [
    "![Data-models-statistics triangle](img/Intro/MLS-triangle.png)"
   ]
  },
  {
   "cell_type": "markdown",
   "metadata": {},
   "source": [
    "Further reading:\n",
    "- [Data mining and statistics: what's the connection?](statweb.stanford.edu/~jhf/ftp/dm-stat.pdf)\n",
    "- [The rise of the \"data engineer\"](https://medium.com/@maximebeauchemin/the-rise-of-the-data-engineer-91be18f1e603)\n",
    "- [Humorous contrasts between ML and Stats](http://statweb.stanford.edu/~tibs/stat315a/glossary.pdf)\n",
    "    - python$\\leftrightarrow$ R\n",
    "    - conference talk$\\leftrightarrow$ journal article"
   ]
  },
  {
   "cell_type": "markdown",
   "metadata": {},
   "source": [
    "### How will this course be different from a CS class?\n",
    "\n",
    "Physics and astronomy students have different preparation:\n",
    "- Strong background and experience with mathematical tools (linear algebra, multivariate calculus) needed for rigorous discussion of statistics.\n",
    "- Weak / varied background in traditional CS core topics of fundamental algorithms, databases, etc\n",
    "\n",
    "Physics and astronomy research also has different needs:\n",
    "- Our data and models are often fundamentally different from those in typical CS contexts.\n",
    "- We ask different types of questions about our data, sometimes requiring new methods.\n",
    "- We have different priorities for judging a \"good\" method: interpretability, error estimates, etc."
   ]
  },
  {
   "cell_type": "markdown",
   "metadata": {},
   "source": [
    "### What is Data?\n",
    "\n",
    "Data are a finite set of measurements:\n",
    "- Usually viewed as a 2D table e.g., spreadsheet, [FITS table](http://docs.astropy.org/en/stable/io/fits/usage/table.html), [ROOT tree](https://root.cern.ch/root/html/guides/users-guide/Trees.html#trees), [Pandas dataframe](https://pandas.pydata.org/pandas-docs/stable/generated/pandas.DataFrame.html)...\n",
    "- **colums = features**: numeric / categorical?\n",
    "- **rows = samples**: ordered? independent? identically distributed? (i.i.d.)\n",
    "- measurement errors?\n",
    "- binned / un-binned?\n",
    "- similarity measure on samples?"
   ]
  },
  {
   "cell_type": "markdown",
   "metadata": {},
   "source": [
    "**ACTIVITY:** Pick one of these ML problems and describe the rows (samples) and columns (features) of the data you might use to solve the problem.\n",
    "1. Learn a fast approximation to a slow exact calculation.\n",
    "2. Learn to identify Higgs particle decays from LHC event data.\n",
    "3. Learn to estimate the distance to a quasar using optical images."
   ]
  },
  {
   "cell_type": "markdown",
   "metadata": {},
   "source": [
    "### What is a Model?\n",
    "\n",
    "Models specify the probabilities of possible measurements:\n",
    "- Explicit: probability density function.\n",
    "- Implicit: algorithm to generate random outcomes (forward / generative model).\n",
    "- Usually wrong (except \"Toy MC\")\n",
    "- Observables (latent variables):\n",
    "  - integrability: required to calculate normalized probabilities.\n",
    "- Parameters (and hyper-parameters):\n",
    "  - differentiability: required to find most probable (uphill) direction.\n",
    "- Variance - bias tradeoffs (regularization)."
   ]
  },
  {
   "cell_type": "markdown",
   "metadata": {},
   "source": [
    "### What is special about ML in physics and astronomy?\n",
    "\n",
    "- We are data producers, not data consumers:\n",
    "  - Experiment / survey design.\n",
    "  - Optimization of statistical errors.\n",
    "  - Control of systematic errors.\n",
    "- Our data measures physical processes:\n",
    "  - Measurements often reduce to counting photons, etc, with known a-priori random errors.\n",
    "  - Dimensions and units are important.\n",
    "- Our models are usually traceable to an underlying physical theory:\n",
    "  - Models constrained by theory and previous observations.\n",
    "  - Parameter values often intrinsically interesting.\n",
    "- A parameter error estimate is just as important as its value:\n",
    "  - Prefer methods that handle input data errors (weights) and provide output parameter error estimates."
   ]
  }
 ],
 "metadata": {
  "kernelspec": {
   "display_name": "Python 3",
   "language": "python",
   "name": "python3"
  },
  "language_info": {
   "codemirror_mode": {
    "name": "ipython",
    "version": 3
   },
   "file_extension": ".py",
   "mimetype": "text/x-python",
   "name": "python",
   "nbconvert_exporter": "python",
   "pygments_lexer": "ipython3",
   "version": "3.6.4"
  }
 },
 "nbformat": 4,
 "nbformat_minor": 2
}
