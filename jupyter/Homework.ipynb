{
 "cells": [
  {
   "cell_type": "markdown",
   "metadata": {},
   "source": [
    "# Machine Learning and Statistics for Physicists"
   ]
  },
  {
   "cell_type": "markdown",
   "metadata": {},
   "source": [
    "Material for a [UC Irvine](https://uci.edu/) course offered by the [Department of Physics and Astronomy](https://www.physics.uci.edu/).\n",
    "\n",
    "Content is maintained on [github](github.com/dkirkby/MachineLearningStatistics) and distributed under a [BSD3 license](https://opensource.org/licenses/BSD-3-Clause).\n",
    "\n",
    "[Table of contents](Contents.ipynb)"
   ]
  },
  {
   "cell_type": "markdown",
   "metadata": {},
   "source": [
    "## Homework"
   ]
  },
  {
   "cell_type": "markdown",
   "metadata": {},
   "source": [
    "Homework assignments for this course are jupyter notebooks created and managed with [nbgrader](http://nbgrader.readthedocs.io/en/latest/index.html). Homework is submitted via your personal github repository in the class github organization.\n",
    "\n",
    "**Make sure that your personal repo is marked \"Private\" so that only you and the instructor can see its contents.**\n",
    "\n",
    "If you are comfortable using github (or else want to learn now) clone your personal repo to your laptop.  Otherwise, create a directory on your laptop where you work on homework.\n",
    "\n",
    "**Copy each homework notebook from `MachineLearningStats/homework/` to your homework directory before you start working on it, so your work is not lost when you update `MachineLearningStats`.**\n",
    "\n",
    "Open your copy of the homework using, for example:\n",
    "```\n",
    "jupyter notebook Homework1.ipynb\n",
    "```\n",
    "Follow the instructions in the notebook to complete the assignment. Before you turn your homework in:\n",
    "- Check that you have replaced any cells containing **YOUR CODE HERE**.\n",
    "- Remove any `raise NotImplementedError` statements.\n",
    "- Make sure everything runs as expected using **Kernel**$\\rightarrow$**Restart** followed by **Cell**$\\rightarrow$**Run All**.\n",
    "- Check that any checks following each question run successfully.\n",
    "\n",
    "If you are using git to submit your homework:\n",
    "```\n",
    "git add Homework1.ipynb\n",
    "git commit -m 'Submitted'\n",
    "git push\n",
    "```\n",
    "Otherwise, visit your personal repo on github, click \"Upload files\" and drag or choose your completed notebook."
   ]
  },
  {
   "cell_type": "markdown",
   "metadata": {},
   "source": [
    "The following homework is available now.  Update your course material to see new assignments as they are added later.\n",
    "- [Homework 1](homework/Homework1.ipynb)\n",
    "- [Homework 2](homework/Homework2.ipynb)\n",
    "\n",
    "**Remember to always work on a copy of each homework assignment.**"
   ]
  }
 ],
 "metadata": {
  "kernelspec": {
   "display_name": "Python 3",
   "language": "python",
   "name": "python3"
  },
  "language_info": {
   "codemirror_mode": {
    "name": "ipython",
    "version": 3
   },
   "file_extension": ".py",
   "mimetype": "text/x-python",
   "name": "python",
   "nbconvert_exporter": "python",
   "pygments_lexer": "ipython3",
   "version": "3.6.4"
  }
 },
 "nbformat": 4,
 "nbformat_minor": 2
}
