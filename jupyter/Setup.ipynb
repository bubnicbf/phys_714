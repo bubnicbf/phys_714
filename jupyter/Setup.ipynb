{
 "cells": [
  {
   "cell_type": "markdown",
   "metadata": {},
   "source": [
    "# Machine Learning and Statistics for Physicists"
   ]
  },
  {
   "cell_type": "markdown",
   "metadata": {},
   "source": [
    "Material for a [UC Irvine](https://uci.edu/) course offered by the [Department of Physics and Astronomy](https://www.physics.uci.edu/).\n",
    "\n",
    "Content is maintained on [github](github.com/dkirkby/MachineLearningStatistics) and distributed under a [BSD3 license](https://opensource.org/licenses/BSD-3-Clause).\n",
    "\n",
    "[Table of contents](Contents.ipynb)"
   ]
  },
  {
   "cell_type": "markdown",
   "metadata": {},
   "source": [
    "## Prerequisites"
   ]
  },
  {
   "cell_type": "markdown",
   "metadata": {},
   "source": [
    "- [Create a github account](https://github.com/join) if you don't already have one.\n",
    "- [Install the git command-line tools](https://git-scm.com/downloads) on your computer, if necessary.\n",
    "- Install the python 3.6 version of [anaconda](https://www.anaconda.com/download/) on your computer, if necessary."
   ]
  },
  {
   "cell_type": "markdown",
   "metadata": {},
   "source": [
    "## Create the course python environment"
   ]
  },
  {
   "cell_type": "markdown",
   "metadata": {},
   "source": [
    "We will use the [conda command](https://conda.io/docs/commands.html) to create a standard [python environment](https://conda.io/docs/user-guide/tasks/manage-environments.html) for this course. These instructions assume that you have already satisfied the prerequisites."
   ]
  },
  {
   "cell_type": "markdown",
   "metadata": {},
   "source": [
    "Create a new environment by entering (or pasting) the following commands at a shell prompt:\n",
    "```\n",
    "conda create -n MLS python=3.6 pip ipython jupyter numpy scipy pandas matplotlib seaborn scikit-learn hdf5 pytables\n",
    "```\n",
    "Activate the new environment using (this should add \"(MLS)\" to your command prompt, as a reminder of your current environment):\n",
    "```\n",
    "source activate MLS\n",
    "```\n",
    "Add some additional packages from other sources (details [here](https://github.com/ipython-contrib/jupyter_contrib_nbextensions#conda) and [here](https://github.com/ipython-contrib/jupyter_contrib_nbextensions/issues/1153)):\n",
    "```\n",
    "conda install -c conda-forge libiconv jupyter_contrib_nbextensions\n",
    "conda install -c astropy lmfit emcee\n",
    "```\n",
    "Enable a jupyter notebook [extension](https://github.com/ipython-contrib/jupyter_contrib_nbextensions/tree/master/src/jupyter_contrib_nbextensions/nbextensions/exercise2) we will use for in-class exercises:\n",
    "```\n",
    "jupyter nbextension enable exercise2/main\n",
    "```"
   ]
  },
  {
   "cell_type": "markdown",
   "metadata": {},
   "source": [
    "## Install course material"
   ]
  },
  {
   "cell_type": "markdown",
   "metadata": {},
   "source": [
    "Clone the course material from github with the following command, which will create a subdirectory called `MachineLearningStatistics`:\n",
    "```\n",
    "git clone https://github.com/dkirkby/MachineLearningStatistics.git\n",
    "```\n",
    "This should ask you for your github username and password (but you can streamline future [github access using ssh](https://help.github.com/articles/which-remote-url-should-i-use/)).\n",
    "\n",
    "Activate the course environment, if necessary (check your command prompt, but it doesn't do any harm to reactivate the current environment):\n",
    "```\n",
    "source activate MLS\n",
    "```\n",
    "Install the course code and data using:\n",
    "```\n",
    "cd MachineLearningStatistics\n",
    "pip install .\n",
    "```"
   ]
  },
  {
   "cell_type": "markdown",
   "metadata": {},
   "source": [
    "## Launch notebook server"
   ]
  },
  {
   "cell_type": "markdown",
   "metadata": {},
   "source": [
    "To launch the [notebook server](http://jupyter-notebook.readthedocs.io/en/stable/notebook.html) at any time, you can now use:\n",
    "```\n",
    "source activate MLS\n",
    "cd MachineLearningStatistics/notebooks\n",
    "jupyter notebook\n",
    "```\n",
    "Click on `Contents.ipynb` if this is your first time doing this."
   ]
  },
  {
   "cell_type": "markdown",
   "metadata": {},
   "source": [
    "## Update course material"
   ]
  },
  {
   "cell_type": "markdown",
   "metadata": {},
   "source": [
    "You can skip this step if you are installing for the first time, but remember these instructions for later.\n",
    "```\n",
    "source activate MLS\n",
    "cd MachineLearningStatistics\n",
    "git pull\n",
    "pip install . --upgrade\n",
    "```"
   ]
  }
 ],
 "metadata": {
  "kernelspec": {
   "display_name": "Python 3",
   "language": "python",
   "name": "python3"
  },
  "language_info": {
   "codemirror_mode": {
    "name": "ipython",
    "version": 3
   },
   "file_extension": ".py",
   "mimetype": "text/x-python",
   "name": "python",
   "nbconvert_exporter": "python",
   "pygments_lexer": "ipython3",
   "version": "3.6.4"
  }
 },
 "nbformat": 4,
 "nbformat_minor": 2
}
