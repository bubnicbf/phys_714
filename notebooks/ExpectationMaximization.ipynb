{
 "cells": [
  {
   "cell_type": "markdown",
   "metadata": {},
   "source": [
    "# Machine Learning and Statistics for Physicists"
   ]
  },
  {
   "cell_type": "markdown",
   "metadata": {},
   "source": [
    "Material for a [UC Irvine](https://uci.edu/) course offered by the [Department of Physics and Astronomy](https://www.physics.uci.edu/).\n",
    "\n",
    "Content is maintained on [github](github.com/dkirkby/MachineLearningStatistics) and distributed under a [BSD3 license](https://opensource.org/licenses/BSD-3-Clause).\n",
    "\n",
    "[Table of contents](Contents.ipynb)"
   ]
  },
  {
   "cell_type": "code",
   "execution_count": 1,
   "metadata": {},
   "outputs": [],
   "source": [
    "%matplotlib inline\n",
    "import matplotlib.pyplot as plt\n",
    "import seaborn as sns; sns.set()\n",
    "import numpy as np\n",
    "import pandas as pd"
   ]
  },
  {
   "cell_type": "markdown",
   "metadata": {},
   "source": [
    "We have already encountered algorithms based on expectation-maximization (EM) for clustering (KMeans) and density estimation (GMM).  In this notebook, we develop the general theory of EM, which builds on some ideas from [optimization](Optimization.ipynb) and [variational inference](Variational.ipynb)."
   ]
  },
  {
   "cell_type": "markdown",
   "metadata": {},
   "source": [
    "## Maximum-Likelihood Optimization"
   ]
  },
  {
   "cell_type": "markdown",
   "metadata": {},
   "source": [
    "Suppose we can write down a joint likelihood $P(X,Y\\mid \\Theta)$ but only observe $Y$, with the marginal likelihood\n",
    "$$\n",
    "P(Y\\mid \\Theta) = \\int P(X, Y\\mid\\Theta)\\, dX \\; .\n",
    "$$\n",
    "The **Expectation-Maximization** method solves the maximum-likelihood optimization problem\n",
    "$$\n",
    "\\Theta_{ML} = \\underset{\\Theta}{\\mathrm{argmin}}\\,\\left[ -\\log P(Y\\mid\\Theta) \\right]\n",
    "$$\n",
    "with an alternating sequence of E-steps and M-steps.\n",
    "\n",
    "The key idea is to use an upper bound for the marginal negative-log-likelihood by introducing an arbitrary distribution $Q(X)$ over the unobserved $X$:\n",
    "$$\n",
    "\\begin{aligned}\n",
    "-\\log P(Y\\mid \\Theta) &= -\\log \\int Q(X)\\, \\frac{P(X, Y\\mid\\Theta)}{Q(X)}\\, dX \\\\\n",
    "&\\le -\\int Q(X) \\log \\frac{P(X, Y\\mid\\Theta)}{Q(X)} \\, dX\n",
    "\\end{aligned}\n",
    "$$\n",
    "where we apply Jensen's inequality to the concave function $f(z) = -\\log z$ to obtain the upper bound."
   ]
  },
  {
   "cell_type": "markdown",
   "metadata": {},
   "source": [
    "This result holds for any $Q(X)$, but is most useful when the upper bound is \"tight\". Given observed $Y$, we can construct $Q(X)$ to achieve equality at $\\Theta=\\Theta_0$ using:\n",
    "$$\n",
    "Q(X) = P(X\\mid Y,\\Theta_0) = \\frac{P(X, Y\\mid\\Theta_0)}{P(Y\\mid\\Theta_0)} \\; .\n",
    "$$\n",
    "The calculation of this $Q(X)$ given the observed $Y$ and assumed $\\Theta_0$ is the **E-step**: it uses the current $\\Theta_0$ to estimate the distribution of the unobserved $X$.\n",
    "\n",
    "The **M-step** consists of optimizing the upper bound with respect to $\\Theta$ using the $Q(x)$ obtained from the the most recent E-step. The result is our new $\\Theta_0$:\n",
    "$$\n",
    "\\Theta_0 \\leftarrow \\underset{\\Theta}{\\mathrm{argmin}}\\, \\left[\n",
    "-\\int Q(X) \\log \\frac{P(X, Y\\mid\\Theta)}{Q(X)} \\, dX \\right]\n",
    "$$"
   ]
  },
  {
   "cell_type": "markdown",
   "metadata": {},
   "source": [
    "Plugging the $Q(x)$ above into the lower bound, we find:\n",
    "$$\n",
    "\\begin{aligned}\n",
    "-\\log P(Y\\mid \\Theta) &\\le\n",
    "-\\int Q(X) \\log \\frac{P(X, Y\\mid\\Theta)}{Q(X)} \\, dX \\\\\n",
    "&= -\\int \\frac{P(X,Y\\mid\\Theta_0)}{P(Y\\mid\\Theta_0)} \\log\\left[\n",
    "\\frac{P(X,Y\\mid\\Theta)}{P(X,Y\\mid\\Theta_0)}\\, P(Y\\mid\\Theta_0)\\right]\\,dX \\\\\n",
    "&= -\\frac{1}{P(Y\\mid\\Theta_0)} \\int P(X,Y\\mid\\Theta_0) \\left[\n",
    "\\log \\frac{P(X,Y\\mid\\Theta)}{P(X,Y\\mid\\Theta_0)} + \\log P(Y\\mid\\Theta_0)\\right]\\,dX \\\\\n",
    "&= -\\log P(Y\\mid\\Theta_0) - \\frac{1}{P(Y\\mid\\Theta_0)}\n",
    "\\int P(X,Y\\mid\\Theta_0) \\log \\frac{P(X,Y\\mid\\Theta)}{P(X,Y\\mid\\Theta_0)}\\,dX \\\\\n",
    "\\end{aligned}\n",
    "$$"
   ]
  },
  {
   "cell_type": "markdown",
   "metadata": {},
   "source": [
    "Since $P(Y\\mid\\Theta_0)$ is a positive constant, minimizing this lower bound is equivalent to minimizing the simpler quantity\n",
    "$$\n",
    "-\\int P(X, Y\\mid\\Theta_0) \\log \\frac{P(X, Y\\mid\\Theta)}{P(X, Y\\mid\\Theta_0)}\\, dX\n",
    "= \\text{KL}\\left[P(X, Y\\mid\\Theta_0) \\parallel P(X, Y\\mid\\Theta) \\right] \\; ,\n",
    "$$\n",
    "which we recognize as the KL divergence between the joint probabilities with $\\Theta$ fixed or floating."
   ]
  },
  {
   "cell_type": "markdown",
   "metadata": {},
   "source": [
    "### E-M Example"
   ]
  },
  {
   "cell_type": "markdown",
   "metadata": {},
   "source": [
    "For example, suppose $(X,Y)$ are points along a line passing through the origin described by a slope parameter $\\Theta$, with homescedastic errors $\\sigma_y$ in $y$, and $|x| \\le L$."
   ]
  },
  {
   "cell_type": "code",
   "execution_count": 27,
   "metadata": {},
   "outputs": [],
   "source": [
    "def generate(n=100, theta=2.5, L=1.5, sigma_y=0.2, seed=123):\n",
    "    gen = np.random.RandomState(seed=seed)\n",
    "    X = gen.uniform(-L, +L, n)\n",
    "    Y = theta * X + sigma_y * gen.normal(size=n)\n",
    "    return X, Y\n",
    "    \n",
    "X, Y = generate()"
   ]
  },
  {
   "cell_type": "code",
   "execution_count": 28,
   "metadata": {},
   "outputs": [
    {
     "data": {
      "text/plain": [
       "<matplotlib.collections.PathCollection at 0x10d6cdbe0>"
      ]
     },
     "execution_count": 28,
     "metadata": {},
     "output_type": "execute_result"
    },
    {
     "data": {
      "image/png": "[encoded data removed]",
      "text/plain": [
       "<matplotlib.figure.Figure at 0x10dddca90>"
      ]
     },
     "metadata": {},
     "output_type": "display_data"
    }
   ],
   "source": [
    "plt.scatter(X, Y)"
   ]
  },
  {
   "cell_type": "markdown",
   "metadata": {},
   "source": [
    "The joint likelihood of a single sample $(x, y)$ is:\n",
    "$$\n",
    "P(X, Y\\mid\\Theta) = \\frac{1}{\\sqrt{2\\pi}\\sigma_y} \\exp\\left[\n",
    "-\\frac{(\\theta x - y)^2}{2 \\sigma_y^2}\\right]\n",
    "$$"
   ]
  },
  {
   "cell_type": "code",
   "execution_count": 29,
   "metadata": {},
   "outputs": [
    {
     "data": {
      "image/png": "[encoded data removed]",
      "text/plain": [
       "<matplotlib.figure.Figure at 0x10dc87ef0>"
      ]
     },
     "metadata": {},
     "output_type": "display_data"
    }
   ],
   "source": [
    "def plot_joint(theta=2.5, L=1.5, sigma_y=0.2, ylim=5):\n",
    "    x = np.linspace(-L, +L, 51)\n",
    "    y = np.linspace(-ylim, +ylim, 51).reshape(-1, 1)\n",
    "    logL = -0.5 * sigma_y ** -2 * (theta * x - y) ** 2\n",
    "    plt.imshow(logL, interpolation='none', extent=(x[0], x[-1], y[0], y[-1]),\n",
    "               aspect='auto', origin='lower')\n",
    "    plt.scatter(X, Y)\n",
    "    plt.xlim(-1, 1)\n",
    "    plt.grid(False)\n",
    "    \n",
    "plot_joint()"
   ]
  },
  {
   "cell_type": "markdown",
   "metadata": {},
   "source": [
    "with a marginal likelihood:\n",
    "$$\n",
    "P(Y\\mid\\Theta) = \\frac{1}{2 c_1} \\left[\n",
    "\\text{erf}\\left(\\frac{\\theta L - y}{\\sqrt{2}\\sigma_y}\\right) +\n",
    "\\text{erf}\\left(\\frac{\\theta L + y}{\\sqrt{2}\\sigma_y}\\right)\n",
    "\\right]\n",
    "$$"
   ]
  },
  {
   "cell_type": "markdown",
   "metadata": {},
   "source": [
    "The EM method uses a lower bound for the marginal likelihood by introducing an arbitrary distribution $Q(X)$ over the unobserved $X$:\n",
    "$$\n",
    "\\begin{aligned}\n",
    "\\log P(Y\\mid \\Theta) &= \\log \\int Q(X)\\, \\frac{P(X, Y\\mid\\Theta)}{Q(X)}\\, dX \\\\\n",
    "&\\ge \\int Q(X) \\log \\frac{P(X, Y\\mid\\Theta)}{Q(X)} \\, dX\n",
    "\\end{aligned}\n",
    "$$\n",
    "where we apply Jensen's inequality to the convex log function to obtain the lower bound."
   ]
  },
  {
   "cell_type": "code",
   "execution_count": 22,
   "metadata": {},
   "outputs": [],
   "source": [
    "from scipy.special import erf"
   ]
  },
  {
   "cell_type": "code",
   "execution_count": 34,
   "metadata": {},
   "outputs": [],
   "source": [
    "def log_marginal(theta, y, L=1.5, sigma_y=0.2):\n",
    "    denom = np.sqrt(2) * sigma_y\n",
    "    return np.log(0.5 / theta * (erf((theta * L - y) / denom) + erf((theta * L + y) / denom)))"
   ]
  },
  {
   "cell_type": "code",
   "execution_count": 48,
   "metadata": {},
   "outputs": [],
   "source": [
    "def log_bound(theta, y, Q, L=1.5, sigma_y=0.2):\n",
    "    x = np.linspace(-L, +L, 201).reshape(-1, 1)\n",
    "    Qx = Q(x)\n",
    "    print(x.shape, Qx.shape)\n",
    "    Qx /= np.trapz(Qx, x, axis=0)\n",
    "    logPxy = -0.5 * (theta * x - y) ** 2 / sigma_y ** 2 - 0.5 * np.log(2 * np.pi * sigma_y ** 2)\n",
    "    integrand = Qx * (logPxy - np.log(Qx))\n",
    "    return np.trapz(integrand, x, axis=0)"
   ]
  },
  {
   "cell_type": "code",
   "execution_count": 52,
   "metadata": {},
   "outputs": [
    {
     "name": "stdout",
     "output_type": "stream",
     "text": [
      "(201, 1) (201, 1)\n",
      "(201, 1) (201, 1)\n"
     ]
    },
    {
     "data": {
      "image/png": "[encoded data removed]",
      "text/plain": [
       "<matplotlib.figure.Figure at 0x10dbdf358>"
      ]
     },
     "metadata": {},
     "output_type": "display_data"
    }
   ],
   "source": [
    "def plot_Estep(y=1):\n",
    "    theta = np.linspace(-1, 3, 51)\n",
    "    m = log_marginal(theta, y)\n",
    "    plt.plot(theta, m, 'k-')\n",
    "    Q = lambda x: 1 + 0. * x\n",
    "    b = log_bound(theta, y, Q)\n",
    "    plt.plot(theta, b, 'r--', label='Q flat')\n",
    "    Q = lambda x: -(x - 1) ** 2\n",
    "    b = log_bound(theta, y, Q)\n",
    "    plt.plot(theta, b, 'r:', label='Q gauss')\n",
    "    plt.legend()\n",
    "    \n",
    "plot_Estep()"
   ]
  },
  {
   "cell_type": "code",
   "execution_count": null,
   "metadata": {},
   "outputs": [],
   "source": []
  }
 ],
 "metadata": {
  "kernelspec": {
   "display_name": "Python 3",
   "language": "python",
   "name": "python3"
  },
  "language_info": {
   "codemirror_mode": {
    "name": "ipython",
    "version": 3
   },
   "file_extension": ".py",
   "mimetype": "text/x-python",
   "name": "python",
   "nbconvert_exporter": "python",
   "pygments_lexer": "ipython3",
   "version": "3.6.4"
  }
 },
 "nbformat": 4,
 "nbformat_minor": 2
}
